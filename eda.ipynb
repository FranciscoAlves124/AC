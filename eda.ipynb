{
 "cells": [
  {
   "cell_type": "markdown",
   "id": "02a3704c",
   "metadata": {},
   "source": [
    "## Exploratory Data Analysis"
   ]
  },
  {
   "cell_type": "code",
   "execution_count": 25,
   "id": "8612ba53",
   "metadata": {},
   "outputs": [],
   "source": [
    "import pandas as pd"
   ]
  },
  {
   "cell_type": "markdown",
   "id": "d5498f67",
   "metadata": {},
   "source": [
    "### 1. Search for irrelevant attributes/features"
   ]
  },
  {
   "cell_type": "markdown",
   "id": "24ff8311",
   "metadata": {},
   "source": [
    "#### Awards Table"
   ]
  },
  {
   "cell_type": "code",
   "execution_count": 26,
   "id": "21c7f9b2",
   "metadata": {},
   "outputs": [
    {
     "name": "stdout",
     "output_type": "stream",
     "text": [
      "Count of different lgIDs:\n",
      "lgID\n",
      "WNBA    95\n",
      "Name: count, dtype: int64\n",
      "\n",
      "\n"
     ]
    }
   ],
   "source": [
    "# Load awards_players.csv\n",
    "df = pd.read_csv('project_data/awards_players.csv')\n",
    "\n",
    "# Count of different lgIDs\n",
    "print(\"Count of different lgIDs:\")\n",
    "print(df['lgID'].value_counts())\n",
    "print(\"\\n\")\n",
    "# All lgIDs are the same, so we can assume they are irrelevant to our analysis\n",
    "\n"
   ]
  },
  {
   "cell_type": "markdown",
   "id": "0be87793",
   "metadata": {},
   "source": [
    "#### Coaches Table"
   ]
  },
  {
   "cell_type": "code",
   "execution_count": 27,
   "id": "a0af63f5",
   "metadata": {},
   "outputs": [
    {
     "name": "stdout",
     "output_type": "stream",
     "text": [
      "Count of different lgIDs:\n",
      "lgID\n",
      "WNBA    162\n",
      "Name: count, dtype: int64\n",
      "\n",
      "\n"
     ]
    }
   ],
   "source": [
    "# Load coaches.csv\n",
    "df = pd.read_csv('project_data/coaches.csv')\n",
    "\n",
    "# Count of different lgIDs\n",
    "print(\"Count of different lgIDs:\")\n",
    "print(df['lgID'].value_counts())\n",
    "print(\"\\n\")\n",
    "# All lgIDs are the same, so we can assume they are irrelevant to our analysis"
   ]
  },
  {
   "cell_type": "markdown",
   "id": "2e31c697",
   "metadata": {},
   "source": [
    "#### Players Teams Table"
   ]
  },
  {
   "cell_type": "code",
   "execution_count": 28,
   "id": "39769d5a",
   "metadata": {},
   "outputs": [
    {
     "name": "stdout",
     "output_type": "stream",
     "text": [
      "Count of different lgIDs:\n",
      "lgID\n",
      "WNBA    1876\n",
      "Name: count, dtype: int64\n",
      "\n",
      "\n"
     ]
    }
   ],
   "source": [
    "# Load players_teams.csv\n",
    "df = pd.read_csv('project_data/players_teams.csv')\n",
    "\n",
    "# Count of different lgIDs\n",
    "print(\"Count of different lgIDs:\")\n",
    "print(df['lgID'].value_counts())\n",
    "print(\"\\n\")\n",
    "# All lgIDs are the same, so we can assume they are irrelevant to our analysis"
   ]
  },
  {
   "cell_type": "markdown",
   "id": "274fbd5e",
   "metadata": {},
   "source": [
    "#### Players Table"
   ]
  },
  {
   "cell_type": "code",
   "execution_count": 29,
   "id": "a2b236fb",
   "metadata": {},
   "outputs": [
    {
     "name": "stdout",
     "output_type": "stream",
     "text": [
      "Value Distribution of firstseason\n",
      "firstseason\n",
      "0    893\n",
      "Name: count, dtype: int64\n",
      "\n",
      "\n",
      "Value Distribution of lastseason\n",
      "lastseason\n",
      "0    893\n",
      "Name: count, dtype: int64\n",
      "\n",
      "\n",
      "Value Distribution of deathDate\n",
      "deathDate\n",
      "0000-00-00    889\n",
      "2011-05-27      1\n",
      "1999-08-19      1\n",
      "1999-01-18      1\n",
      "2001-05-12      1\n",
      "Name: count, dtype: int64\n",
      "\n",
      "\n",
      "Value Distribution of collegeOther\n",
      "collegeOther\n",
      "True     882\n",
      "False     11\n",
      "Name: count, dtype: int64\n",
      "\n",
      "\n"
     ]
    }
   ],
   "source": [
    "# Load players.csv\n",
    "df = pd.read_csv('project_data/players.csv')\n",
    "\n",
    "# Player firstSeason and lastSeason Distribution\n",
    "print(\"Value Distribution of firstseason\")\n",
    "print(df['firstseason'].value_counts())\n",
    "print(\"\\n\")\n",
    "\n",
    "print(\"Value Distribution of lastseason\")\n",
    "print(df['lastseason'].value_counts())\n",
    "print(\"\\n\")\n",
    "\n",
    "# Devemos preencher estes valores de alguma forma. Podemos olhar para o primeiro ano em que jogaram na tabela players_teams para firstSeason...\n",
    "\n",
    "# Player Death Date Distribution 0000-00-00 vs not 0000-00-00 (0000-00-00 means alive)\n",
    "print(\"Value Distribution of deathDate\")\n",
    "print(df['deathDate'].value_counts())\n",
    "print(\"\\n\")\n",
    "\n",
    "# Player collegeOther Distribution NULL vs NOT NULL\n",
    "print(\"Value Distribution of collegeOther\")\n",
    "print(df['collegeOther'].isnull().value_counts())\n",
    "print(\"\\n\")\n"
   ]
  },
  {
   "cell_type": "markdown",
   "id": "71cf2a88",
   "metadata": {},
   "source": [
    "#### Series Post, Teams_Post and Teams"
   ]
  },
  {
   "cell_type": "code",
   "execution_count": 30,
   "id": "8930d3f1",
   "metadata": {},
   "outputs": [
    {
     "name": "stdout",
     "output_type": "stream",
     "text": [
      "Count of different lgIDs in series_post:\n",
      "lgIDWinner\n",
      "WNBA    70\n",
      "Name: count, dtype: int64\n",
      "lgIDLoser\n",
      "WNBA    70\n",
      "Name: count, dtype: int64\n",
      "\n",
      "\n",
      "Count of different lgIDs in teams_post:\n",
      "lgID\n",
      "WNBA    80\n",
      "Name: count, dtype: int64\n",
      "\n",
      "\n",
      "Count of different lgIDs in teams:\n",
      "lgID\n",
      "WNBA    142\n",
      "Name: count, dtype: int64\n",
      "\n",
      "\n"
     ]
    }
   ],
   "source": [
    "# Load series_post.csv, teams_post.csv and teams.csv\n",
    "df_series_post = pd.read_csv('project_data/series_post.csv')\n",
    "df_teams_post = pd.read_csv('project_data/teams_post.csv')\n",
    "df_teams = pd.read_csv('project_data/teams.csv')\n",
    "\n",
    "# Count of different lgIDs in series_post\n",
    "print(\"Count of different lgIDs in series_post:\")\n",
    "print(df_series_post['lgIDWinner'].value_counts())\n",
    "print(df_series_post['lgIDLoser'].value_counts())\n",
    "print(\"\\n\")\n",
    "\n",
    "# Count of different lgIDs in teams_post\n",
    "print(\"Count of different lgIDs in teams_post:\")\n",
    "print(df_teams_post['lgID'].value_counts())\n",
    "print(\"\\n\")\n",
    "\n",
    "# Count of different lgIDs in teams\n",
    "print(\"Count of different lgIDs in teams:\")\n",
    "print(df_teams['lgID'].value_counts())\n",
    "print(\"\\n\")\n",
    "# All lgIDs are the same, so we can assume they are irrelevant to our analysis\n"
   ]
  },
  {
   "cell_type": "markdown",
   "id": "56b52d95",
   "metadata": {},
   "source": [
    "### 2. Data Cleaning"
   ]
  },
  {
   "cell_type": "markdown",
   "id": "e781f467",
   "metadata": {},
   "source": [
    "### 3. Visual Data Representation (Plots and Graphs)"
   ]
  },
  {
   "cell_type": "code",
   "execution_count": null,
   "id": "cf2bd431",
   "metadata": {},
   "outputs": [],
   "source": []
  }
 ],
 "metadata": {
  "kernelspec": {
   "display_name": "EnvACFinal",
   "language": "python",
   "name": "python3"
  },
  "language_info": {
   "codemirror_mode": {
    "name": "ipython",
    "version": 3
   },
   "file_extension": ".py",
   "mimetype": "text/x-python",
   "name": "python",
   "nbconvert_exporter": "python",
   "pygments_lexer": "ipython3",
   "version": "3.11.13"
  }
 },
 "nbformat": 4,
 "nbformat_minor": 5
}
