{
 "cells": [
  {
   "cell_type": "markdown",
   "id": "02a3704c",
   "metadata": {},
   "source": [
    "## Exploratory Data Analysis"
   ]
  },
  {
   "cell_type": "markdown",
   "id": "d5498f67",
   "metadata": {},
   "source": [
    "### Search for irrelevant attributes/features"
   ]
  },
  {
   "cell_type": "code",
   "execution_count": null,
   "id": "a2b236fb",
   "metadata": {},
   "outputs": [
    {
     "name": "stdout",
     "output_type": "stream",
     "text": [
      "Value Distribution of firstseason\n",
      "firstseason\n",
      "0    893\n",
      "Name: count, dtype: int64\n",
      "\n",
      "Value Distribution of lastseason\n",
      "lastseason\n",
      "0    893\n",
      "Name: count, dtype: int64\n",
      "\n",
      "Value Distribution of deathDate\n",
      "deathDate\n",
      "0000-00-00    889\n",
      "2011-05-27      1\n",
      "1999-08-19      1\n",
      "1999-01-18      1\n",
      "2001-05-12      1\n",
      "Name: count, dtype: int64\n",
      "\n",
      "Value Distribution of collegeOther\n",
      "collegeOther\n",
      "True     882\n",
      "False     11\n",
      "Name: count, dtype: int64\n",
      "\n"
     ]
    }
   ],
   "source": [
    "import pandas as pd\n",
    "\n",
    "# Players\n",
    "df = pd.read_csv('project_data/players.csv')\n",
    "\n",
    "# Player firstSeason and lastSeason Distribution~\n",
    "print(\"Value Distribution of firstseason\")\n",
    "print(df['firstseason'].value_counts())\n",
    "print()\n",
    "\n",
    "print(\"Value Distribution of lastseason\")\n",
    "print(df['lastseason'].value_counts())\n",
    "print()\n",
    "\n",
    "# Player Death Date Distribution 0000-00-00 vs not 0000-00-00 (0000-00-00 means alive)\n",
    "print(\"Value Distribution of deathDate\")\n",
    "print(df['deathDate'].value_counts())\n",
    "print()\n",
    "\n",
    "# Player collegeOther Distribution NULL vs NOT NULL\n",
    "print(\"Value Distribution of collegeOther\")\n",
    "print(df['collegeOther'].isnull().value_counts())\n",
    "print()\n"
   ]
  }
 ],
 "metadata": {
  "kernelspec": {
   "display_name": "EnvACFinal",
   "language": "python",
   "name": "python3"
  },
  "language_info": {
   "codemirror_mode": {
    "name": "ipython",
    "version": 3
   },
   "file_extension": ".py",
   "mimetype": "text/x-python",
   "name": "python",
   "nbconvert_exporter": "python",
   "pygments_lexer": "ipython3",
   "version": "3.11.13"
  }
 },
 "nbformat": 4,
 "nbformat_minor": 5
}
