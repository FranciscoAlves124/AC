{
 "cells": [
  {
   "cell_type": "markdown",
   "id": "02a3704c",
   "metadata": {},
   "source": [
    "## Exploratory Data Analysis"
   ]
  },
  {
   "cell_type": "code",
   "execution_count": 58,
   "id": "8f766c54",
   "metadata": {},
   "outputs": [],
   "source": [
    "import pandas as pd\n",
    "import matplotlib as mpl\n",
    "from pathlib import Path"
   ]
  },
  {
   "cell_type": "code",
   "execution_count": 59,
   "id": "e3278260",
   "metadata": {},
   "outputs": [],
   "source": [
    "awards = pd.read_csv(\"project_data/awards_players.csv\")\n",
    "coaches = pd.read_csv(Path(\"project_data\", \"coaches.csv\"))\n",
    "players_teams = pd.read_csv(Path(\"project_data\", \"players_teams.csv\"))\n",
    "players = pd.read_csv(Path(\"project_data\", \"players.csv\"))\n",
    "series_post = pd.read_csv(Path(\"project_data\", \"series_post.csv\"))\n",
    "teams_post = pd.read_csv(Path(\"project_data\", \"teams_post.csv\"))\n",
    "teams = pd.read_csv(Path(\"project_data\", \"teams.csv\"))"
   ]
  },
  {
   "cell_type": "markdown",
   "id": "d5498f67",
   "metadata": {},
   "source": [
    "### 1. Search for irrelevant attributes/features"
   ]
  },
  {
   "cell_type": "markdown",
   "id": "24ff8311",
   "metadata": {},
   "source": [
    "#### Awards Table"
   ]
  },
  {
   "cell_type": "code",
   "execution_count": 61,
   "id": "21c7f9b2",
   "metadata": {},
   "outputs": [
    {
     "name": "stdout",
     "output_type": "stream",
     "text": [
      "Count of different lgIDs:\n",
      "lgID\n",
      "WNBA    95\n",
      "Name: count, dtype: int64\n",
      "\n",
      "\n"
     ]
    }
   ],
   "source": [
    "# Count of different lgIDs\n",
    "print(\"Count of different lgIDs:\")\n",
    "print(awards['lgID'].value_counts())\n",
    "print(\"\\n\")\n",
    "# All lgIDs are the same, so we can assume they are irrelevant to our analysis"
   ]
  },
  {
   "cell_type": "markdown",
   "id": "0be87793",
   "metadata": {},
   "source": [
    "#### Coaches Table"
   ]
  },
  {
   "cell_type": "code",
   "execution_count": 62,
   "id": "a0af63f5",
   "metadata": {},
   "outputs": [
    {
     "name": "stdout",
     "output_type": "stream",
     "text": [
      "Count of different lgIDs:\n",
      "lgID\n",
      "WNBA    162\n",
      "Name: count, dtype: int64\n",
      "\n",
      "\n"
     ]
    }
   ],
   "source": [
    "# Count of different lgIDs\n",
    "print(\"Count of different lgIDs:\")\n",
    "print(coaches['lgID'].value_counts())\n",
    "print(\"\\n\")\n",
    "# All lgIDs are the same, so we can assume they are irrelevant to our analysis"
   ]
  },
  {
   "cell_type": "markdown",
   "id": "2e31c697",
   "metadata": {},
   "source": [
    "#### Players Teams Table"
   ]
  },
  {
   "cell_type": "code",
   "execution_count": 63,
   "id": "39769d5a",
   "metadata": {},
   "outputs": [
    {
     "name": "stdout",
     "output_type": "stream",
     "text": [
      "Count of different lgIDs:\n",
      "lgID\n",
      "WNBA    1876\n",
      "Name: count, dtype: int64\n",
      "\n",
      "\n"
     ]
    }
   ],
   "source": [
    "# Count of different lgIDs\n",
    "print(\"Count of different lgIDs:\")\n",
    "print(players_teams['lgID'].value_counts())\n",
    "print(\"\\n\")\n",
    "# All lgIDs are the same, so we can assume they are irrelevant to our analysis"
   ]
  },
  {
   "cell_type": "markdown",
   "id": "274fbd5e",
   "metadata": {},
   "source": [
    "#### Players Table"
   ]
  },
  {
   "cell_type": "code",
   "execution_count": 66,
   "id": "a2b236fb",
   "metadata": {},
   "outputs": [
    {
     "name": "stdout",
     "output_type": "stream",
     "text": [
      "Value Distribution of firstseason\n",
      "firstseason\n",
      "0    893\n",
      "Name: count, dtype: int64\n",
      "\n",
      "\n",
      "Value Distribution of lastseason\n",
      "lastseason\n",
      "0    893\n",
      "Name: count, dtype: int64\n",
      "\n",
      "\n",
      "Value Distribution of deathDate\n",
      "deathDate\n",
      "0000-00-00    889\n",
      "2011-05-27      1\n",
      "1999-08-19      1\n",
      "1999-01-18      1\n",
      "2001-05-12      1\n",
      "Name: count, dtype: int64\n",
      "\n",
      "\n",
      "Value Distribution of collegeOther\n",
      "collegeOther\n",
      "True     882\n",
      "False     11\n",
      "Name: count, dtype: int64\n"
     ]
    }
   ],
   "source": [
    "# Player firstSeason and lastSeason Distribution\n",
    "print(\"Value Distribution of firstseason\")\n",
    "print(players['firstseason'].value_counts())\n",
    "print(\"\\n\")\n",
    "\n",
    "print(\"Value Distribution of lastseason\")\n",
    "print(players['lastseason'].value_counts())\n",
    "print(\"\\n\")\n",
    "\n",
    "# Devemos preencher estes valores de alguma forma. Podemos olhar para o primeiro ano em que jogaram na tabela players_teams para firstSeason...\n",
    "\n",
    "# Player Death Date Distribution 0000-00-00 vs not 0000-00-00 (0000-00-00 means alive)\n",
    "print(\"Value Distribution of deathDate\")\n",
    "print(players['deathDate'].value_counts())\n",
    "print(\"\\n\")\n",
    "\n",
    "# Player collegeOther Distribution NULL vs NOT NULL\n",
    "print(\"Value Distribution of collegeOther\")\n",
    "print(players['collegeOther'].isnull().value_counts())"
   ]
  },
  {
   "cell_type": "markdown",
   "id": "71cf2a88",
   "metadata": {},
   "source": [
    "#### Series Post, Teams_Post and Teams"
   ]
  },
  {
   "cell_type": "code",
   "execution_count": 68,
   "id": "8930d3f1",
   "metadata": {},
   "outputs": [
    {
     "name": "stdout",
     "output_type": "stream",
     "text": [
      "Count of different lgIDs in series_post:\n",
      "lgIDWinner\n",
      "WNBA    70\n",
      "Name: count, dtype: int64\n",
      "lgIDLoser\n",
      "WNBA    70\n",
      "Name: count, dtype: int64\n",
      "\n",
      "\n",
      "Count of different lgIDs in teams_post:\n",
      "lgID\n",
      "WNBA    80\n",
      "Name: count, dtype: int64\n",
      "\n",
      "\n",
      "Count of different lgIDs in teams:\n",
      "lgID\n",
      "WNBA    142\n",
      "Name: count, dtype: int64\n"
     ]
    }
   ],
   "source": [
    "# Count of different lgIDs in series_post\n",
    "print(\"Count of different lgIDs in series_post:\")\n",
    "print(series_post['lgIDWinner'].value_counts())\n",
    "print(series_post['lgIDLoser'].value_counts())\n",
    "print(\"\\n\")\n",
    "\n",
    "# Count of different lgIDs in teams_post\n",
    "print(\"Count of different lgIDs in teams_post:\")\n",
    "print(teams_post['lgID'].value_counts())\n",
    "print(\"\\n\")\n",
    "\n",
    "# Count of different lgIDs in teams\n",
    "print(\"Count of different lgIDs in teams:\")\n",
    "print(teams['lgID'].value_counts())\n",
    "# All lgIDs are the same, so we can assume they are irrelevant to our analysis"
   ]
  },
  {
   "cell_type": "markdown",
   "id": "66b6de04",
   "metadata": {},
   "source": [
    "List of rookies (by year):"
   ]
  },
  {
   "cell_type": "code",
   "execution_count": null,
   "id": "be152bfa",
   "metadata": {},
   "outputs": [
    {
     "name": "stdout",
     "output_type": "stream",
     "text": [
      "Year: 2\n",
      "Rookies: {'pettibr01w', 'salesny01w', 'campbed01w', 'badertr01w', 'iveyni01w', 'radunha01w', 'johnsja01w', 'nagyan01w', 'shakiel01w', 'whitiva01w', 'reddja01w', 'figgsuk01w', 'malcona01w', 'gilloje01w', 'mcculda01w', 'weathte01w', 'vealkr01w', 'barnequ01w', 'grubigo01w', 'baranel01w', 'aldrima01w', 'levanni01w', 'johnssh01w', 'robincr01w', 'goodsad01w', 'ndiayas01w', 'nolande01w', 'burseja01w', 'vodicka01w', 'cantydo01w', 'herriam01w', 'kubikni01w', 'dossaci01w', 'enissh01w', 'rileyru01w', 'walsema01w', 'martima01w', 'hillec01w', 'pridely01w', 'schumke01w', 'luzhe01w', 'douglka01w', 'ferdima01w', 'santoal01w', 'wynneda01w', 'feastal01w', 'streiju01w', 'wyckobr01w', 'folklkr01w', 'crawlsy01w', 'pavlimi01w', 'rizzoje01w', 'mccrini01w', 'smithch03w', 'bauerca01w', 'griffyo01w', 'jacksla01w', 'wolteka01w', 'grginve01w', 'lobore01w', 'taylope01w', 'harrili01w', 'darlihe01w', 'milleke01w', 'williwe01w', 'hammobe01w', 'blackde01w', 'jacksta02w', 'dixonta01w', 'kingija01w', 'hicksje01w', 'nevescl01w', 'penicti01w', 'stepama01w', 'hledeko01w', 'witheso01w', 'fallotr01w', 'coopeca01w', 'azzije01w', 'milleco01w', 'tuvicsl01w', 'jacksta01w', 'suttota01w', 'willina01w', 'leslili01w', 'rasmukr01w', 'fordst01w', 'schwege01w', 'smithta01w', 'burraal01w', 'saureau01w', 'thompal01w', 'askamma01w', 'thomast01w', 'jonesme01w', 'boltoru01w', 'mapprh01w', 'phillta01w', 'williad01w', 'holdsch01w', 'stiresh01w', 'johnsvi01w', 'dydekma01w', 'lovelst01w', 'samsh01w', 'gibsoke01w', 'miltode01w', 'hendene01w', 'santoke01w', 'nygaava01w', 'consuca01w', 'henniso01w', 'stinsan01w', 'sauerpa01w', 'pagemu01w', 'hollake01w', 'payeka01w', 'anderke01w', 'edwarto01w', 'clearmi01w', 'lazicka01w', 'bristre01w', 'stedika01w', 'reidtr01w', 'stileja01w', 'korstil01w', 'brumfma01w', 'starbka01w', 'mccarst01w', 'burgean01w', 'whittje01w', 'abrossv01w', 'erbsu01w', 'frettla01w', 'daleygr01w', 'brondsa01w', 'edwarmi01w', 'brazian01w', 'maxwemo01w', 'smithch02w', 'clinest01w', 'alhalta01w', 'machacl01w', 'palmewe01w', 'timmsmi01w', 'thompti01w', 'amachma01w', 'stockta01w', 'melvich01w', 'youngca01w', 'mabikmw01w', 'johnsla01w', 'mcwilta01w', 'barksla01w', 'stafftr01w', 'williri01w', 'mccaiti01w', 'reedbr01w', 'lennobe01w', 'torrele01w', 'arcaija01w', 'johnsti01w', 'blodgci01w', 'scottol01w', 'millsta01w', 'vangomi01w', 'whitmta01w', 'farriba01w', 'fordki01w', 'boydca01w', 'beviltu01w', 'browned01w', 'spornra01w', 'wickssu01w', 'colleka01w', 'lewisty01w', 'harrokr01w', 'nemcoev01w', 'walkede01w', 'wolvean01w', 'hallvi01w', 'dickeke01w', 'moisead01w', 'moweje01w', 'mcgheca01w', 'marcimi01w', 'mccrani01w', 'washico01w', 'powelel01w', 'johnspo01w', 'groomla01w', 'bullevi01w', 'luckepa01w', 'edwarsi01w', 'torniel01w', 'randase01w', 'wautean01w', 'brownru01w', 'saundja01w', 'staleda01w', 'smithka01w', 'lassiam01w', 'washito01w', 'byearla01w', 'barnead01w', 'andrame01w'}\n",
      "Year: 3\n",
      "Rookies: {'aguilel01w', 'zakalok01w', 'lambesh01w', 'owenssh01w', 'moosca01w', 'garcibe01w', 'lewista01w', 'klimezu01w', 'ambermo01w', 'castriz01w', 'frohlli01w', 'mooreja01w', 'gardnan01w', 'berthlu01w', 'raglafe01w', 'mahonsh01w', 'johnsad01w', 'chapmji01w', 'bonfisu01w', 'mccaibr01w', 'mooreta01w', 'maigaha01w', 'walkeay01w', 'ngoyibe01w', 'swoopsh01w', 'cunnida01w', 'jonesas01w', 'desouer01w', 'jacksde01w', 'snowmi01w', 'birdsu01w', 'caufila01w', 'catchta01w', 'brownki01w', 'cashsw01w', 'hendetr01w', 'crockda01w', 'gortmsh01w', 'dalesst01w', 'chriska01w', 'teaslni01w', 'gaithka01w', 'yamasli01w', 'willile02w', 'hallam01w'}\n",
      "Year: 4\n",
      "Rookies: {'smithai01w', 'sun-mju01w', 'ujhelpe01w', 'brownco01w', 'jacksgw01w', 'sanfona01w', 'slavtge01w', 'lawsoka01w', 'johnsch01w', 'donapbe01w', 'anderch01w', 'dillata01w', 'umoh-it01w', 'ivanyda01w', 'colemco01w', 'malloso01w', 'pierspl01w', 'fordch01w', 'adamsjo01w', 'mckivte01w', 'deforan01w', 'thorner01w', 'yilmane01w', 'coopecy01w', 'zirkozu01w', 'pennjo01w', 'azizle01w', 'sharpkb01w', 'blueoc01w', 'thomala01w', 'curryed01w', 'edwarte01w', 'willish01w', 'udokamf01w'}\n",
      "Year: 5\n",
      "Rookies: {'stephst01w', 'wrighsh01w', 'perkiji01w', 'macchla01w', 'tilliic01w', 'chrissh01w', 'whaleli01w', 'ohldeni01w', 'slauggw01w', 'brungje01w', 'whitede01w', 'mazzake01w', 'hodgedo01w', 'jacobam01w', 'robinas01w', 'powelni01w', 'cokermo01w', 'choneka01w', 'mendigi01w', 'thomach01w', 'bjorkte01w', 'beardal01w', 'tauradi01w', 'buttsta01w', 'haydeva01w', 'carteam01w', 'derevje01w', 'willito01w', 'sanchis01w', 'bibrzag01w', 'hoffmeb01w', 'jonesch01w', 'grecomi01w', 'tayloli01w', 'futreca01w', 'willile01w', 'brunsre01w', 'mascira01w', 'friertr01w', 'stevema01w'}\n",
      "Year: 6\n",
      "Rookies: {'braxtka01w', 'hodgero01w', 'whiteta01w', 'miaomi01w', 'paigeyo01w', 'vodopna01w', 'koehnla01w', 'lyttlsa01w', 'johnste01w', 'bennije01w', 'martinu01w', 'newtoch01w', 'battlas01w', 'smithje01w', 'mannkr01w', 'lawsoed01w', 'feifesu01w', 'mccarja01w', 'willian01w', 'mooreje01w', 'zarafr01w', 'irvinsa01w', 'matteca01w', 'kingbsu01w', 'wrighta01w', 'snellbe01w', 'elysh01w', 'batkosu01w', 'kraayca01w', 'summela01w', 'haynikr01w', 'moorelo01w', 'batteja01w', 'nieuwma01w', 'careyja01w', 'weckeke01w'}\n",
      "Year: 7\n",
      "Rookies: {'bakersh01w', 'cronika01w', 'blueni01w', 'willili01w', 'atkinla01w', 'teilaza01w', 'paliesa01w', 'dupreca01w', 'lacyje01w', 'currimo01w', 'smithki01w', 'osipoir01w', 'bondla01w', 'duffyme01w', 'jamesta01w', 'turneba01w', 'anderam01w', 'thorbsh01w', 'youngso01w', 'strotan01w', 'davisbr01w', 'wilkibr01w', 'smithcr01w', 'mahonme01w', 'gomisem01w', 'ndongem01w', 'augusse01w', 'vilipda01w', 'terryka01w', 'philler01w', 'greenci01w', 'kostaan01w', 'ngarsch01w', 'queenbr01w', 'stansti01w', 'leuchye01w', 'pondeca01w', 'flukety01w', 'moeggli01w'}\n",
      "Year: 8\n",
      "Rookies: {'gearlka01w', 'balesal01w', 'hardili01w', 'doronsh01w', 'davenje01w', 'bowenli01w', 'chambco01w', 'maltsev01w', 'thomaca01w', 'mosbybe01w', 'lattaiv01w', 'goringi01w', 'jacksti02w', 'littlca01w', 'joensca01w', 'sandeam01w', 'fernama01w', 'raymost01w', 'murphsh01w', 'shielas01w', 'pricear01w', 'spencsi01w', 'davisde01w', 'hairska01w', 'weberma01w', 'quinnno01w', 'coggicl01w', 'granter01w', 'moorena01w', 'smithty01w'}\n",
      "Year: 9\n",
      "Rookies: {'smithwa01w', 'langhcr01w', 'pringla01w', 'mitchle01w', 'swanike01w', 'whiteer01w', 'harpela01w', 'kellycr01w', 'pageda01w', 'quiglal01w', 'larkier01w', 'holtam01w', 'beckki01w', 'walkema01w', 'liebena01w', 'rushle01w', 'smithbr01w', 'anderjo01w', 'houstch01w', 'grudasa01w', 'carsoes01w', 'berezva01w', 'fowlesy01w', 'vaughkr01w', 'pascafl01w', 'ajavoma01w', 'bobbish01w', 'oneilkr01w', 'anosini01w', 'allench01w', 'crockwi01w', 'ogayu01w', 'parkeca01w', 'atunrmo01w', 'zollsh01w', 'gardike01w', 'givench01w', 'nnamach01w', 'gisseka01w', 'frankaq01w', 'humphta01w', 'holmese01w', 'youngta01w', 'sanniol01w', 'whittkh01w', 'wiggica01w', 'rossad01w', 'hornbal01w', 'chanequ01w'}\n",
      "Year: 10\n",
      "Rookies: {'zellosh01w', 'wisdoli01w', 'boddiwh01w', 'jekaban01w', 'parisco01w', 'vaughki01w', 'bonnede01w', 'ervinla01w', 'lehnish01w', 'blackch01w', 'nanch01w', 'davista02w', 'holliqu01w', 'colemma01w', 'januabr01w', 'frazeme01w', 'millebr01w', 'montgre01w', 'wirthch01w', 'walkeas01w', 'cironkr01w', 'tolivkr01w', 'mccanra01w', 'mccouan01w', 'montaan01w'}\n"
     ]
    }
   ],
   "source": [
    "rookies_by_year = {}\n",
    "min_year = players_teams['year'].min()\n",
    "max_year = players_teams['year'].max()\n",
    "previous_years_players = set()\n",
    "\n",
    "for year in range(min_year + 1,max_year + 1):\n",
    "    current_years = players_teams[players_teams['year'] == year]\n",
    "    current_years_players = set(current_years['playerID'])\n",
    "\n",
    "    rookies = current_years_players - previous_years_players\n",
    "    rookies_by_year[year] = rookies\n",
    "\n",
    "    previous_years_players.update(current_years_players)\n",
    "\n",
    "for year, rookies in rookies_by_year.items():\n",
    "    print(f\"Year: {year}\")\n",
    "    print(f\"Rookies: {rookies}\")"
   ]
  },
  {
   "cell_type": "markdown",
   "id": "56b52d95",
   "metadata": {},
   "source": [
    "### 2. Data Cleaning"
   ]
  },
  {
   "cell_type": "markdown",
   "id": "e781f467",
   "metadata": {},
   "source": [
    "### 3. Visual Data Representation (Plots and Graphs)"
   ]
  }
 ],
 "metadata": {
  "language_info": {
   "name": "python"
  }
 },
 "nbformat": 4,
 "nbformat_minor": 5
}
