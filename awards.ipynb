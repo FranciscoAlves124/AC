{
  "cells": [
    {
      "cell_type": "markdown",
      "id": "ae37ae46",
      "metadata": {},
      "source": [
        "## Notebook to answer question c: Who won each of the individual awards"
      ]
    },
    {
      "cell_type": "code",
      "execution_count": 9,
      "id": "df60e6a3",
      "metadata": {},
      "outputs": [],
      "source": [
        "# Load datasets\n",
        "import pandas as pd\n",
        "import matplotlib as mpl\n",
        "import matplotlib.pyplot as plt\n",
        "import numpy as np\n",
        "from pathlib import Path\n",
        "\n",
        "players_teams = pd.read_csv(\"project_data/players_teams.csv\")\n",
        "awards = pd.read_csv(\"project_data/awards_players.csv\")\n",
        "players = pd.read_csv(\"project_data/players_clean.csv\")"
      ]
    },
    {
      "cell_type": "markdown",
      "id": "c170bff4",
      "metadata": {},
      "source": [
        "### 1. Rookie of the Year Award"
      ]
    },
    {
      "cell_type": "code",
      "execution_count": 10,
      "id": "1dd19017",
      "metadata": {},
      "outputs": [
        {
          "name": "stdout",
          "output_type": "stream",
          "text": [
            "Year: 2\n",
            "Rookies: {'torniel01w', 'gibsoke01w', 'moweje01w', 'figgsuk01w', 'vealkr01w', 'salesny01w', 'lazicka01w', 'clearmi01w', 'brazian01w', 'hallvi01w', 'malcona01w', 'ndiayas01w', 'melvich01w', 'mccarst01w', 'scottol01w', 'dickeke01w', 'burraal01w', 'staleda01w', 'milleke01w', 'hammobe01w', 'groomla01w', 'whitiva01w', 'fordst01w', 'bristre01w', 'saundja01w', 'sauerpa01w', 'marcimi01w', 'campbed01w', 'starbka01w', 'barnead01w', 'milleco01w', 'luckepa01w', 'wyckobr01w', 'penicti01w', 'jonesme01w', 'grginve01w', 'walkede01w', 'mccrani01w', 'weathte01w', 'griffyo01w', 'stinsan01w', 'mcculda01w', 'erbsu01w', 'payeka01w', 'baranel01w', 'pridely01w', 'robincr01w', 'saureau01w', 'azzije01w', 'samsh01w', 'jacksta02w', 'rasmukr01w', 'lennobe01w', 'thompti01w', 'barksla01w', 'nolande01w', 'wautean01w', 'andrame01w', 'crawlsy01w', 'edwarsi01w', 'colleka01w', 'phillta01w', 'williri01w', 'jacksta01w', 'burgean01w', 'farriba01w', 'torrele01w', 'spornra01w', 'johnssh01w', 'enissh01w', 'edwarto01w', 'miltode01w', 'dydekma01w', 'grubigo01w', 'bauerca01w', 'santoal01w', 'burseja01w', 'streiju01w', 'lassiam01w', 'feastal01w', 'stockta01w', 'schwege01w', 'edwarmi01w', 'hledeko01w', 'clinest01w', 'stafftr01w', 'amachma01w', 'harrokr01w', 'tuvicsl01w', 'nagyan01w', 'brondsa01w', 'pavlimi01w', 'brumfma01w', 'reidtr01w', 'willina01w', 'vodicka01w', 'washito01w', 'hendene01w', 'folklkr01w', 'machacl01w', 'martima01w', 'goodsad01w', 'leslili01w', 'maxwemo01w', 'smithta01w', 'whittje01w', 'fallotr01w', 'boydca01w', 'timmsmi01w', 'alhalta01w', 'gilloje01w', 'mabikmw01w', 'moisead01w', 'lovelst01w', 'smithch02w', 'wolteka01w', 'hillec01w', 'schumke01w', 'ferdima01w', 'frettla01w', 'daleygr01w', 'abrossv01w', 'rizzoje01w', 'witheso01w', 'boltoru01w', 'hicksje01w', 'henniso01w', 'dossaci01w', 'beviltu01w', 'mccrini01w', 'williwe01w', 'lobore01w', 'johnsti01w', 'mapprh01w', 'shakiel01w', 'jacksla01w', 'nygaava01w', 'wynneda01w', 'johnspo01w', 'stileja01w', 'thomast01w', 'johnsla01w', 'iveyni01w', 'byearla01w', 'lewisty01w', 'barnequ01w', 'williad01w', 'korstil01w', 'cantydo01w', 'herriam01w', 'washico01w', 'stepama01w', 'johnsja01w', 'consuca01w', 'pagemu01w', 'reddja01w', 'thompal01w', 'nevescl01w', 'smithka01w', 'johnsvi01w', 'holdsch01w', 'blodgci01w', 'badertr01w', 'harrili01w', 'dixonta01w', 'whitmta01w', 'santoke01w', 'youngca01w', 'wickssu01w', 'powelel01w', 'radunha01w', 'darlihe01w', 'bullevi01w', 'vangomi01w', 'rileyru01w', 'brownru01w', 'browned01w', 'kubikni01w', 'anderke01w', 'blackde01w', 'wolvean01w', 'mcgheca01w', 'aldrima01w', 'kingija01w', 'walsema01w', 'mcwilta01w', 'levanni01w', 'millsta01w', 'nemcoev01w', 'stedika01w', 'hollake01w', 'randase01w', 'taylope01w', 'fordki01w', 'luzhe01w', 'stiresh01w', 'mccaiti01w', 'douglka01w', 'arcaija01w', 'smithch03w', 'reedbr01w', 'askamma01w', 'pettibr01w', 'palmewe01w', 'coopeca01w', 'suttota01w'}\n",
            "Year: 3\n",
            "Rookies: {'jonesas01w', 'berthlu01w', 'ngoyibe01w', 'cunnida01w', 'snowmi01w', 'dalesst01w', 'gaithka01w', 'jacksde01w', 'gortmsh01w', 'brownki01w', 'owenssh01w', 'teaslni01w', 'bonfisu01w', 'johnsad01w', 'cashsw01w', 'chriska01w', 'garcibe01w', 'catchta01w', 'crockda01w', 'caufila01w', 'walkeay01w', 'castriz01w', 'maigaha01w', 'lewista01w', 'mooreja01w', 'zakalok01w', 'lambesh01w', 'yamasli01w', 'raglafe01w', 'desouer01w', 'swoopsh01w', 'klimezu01w', 'hendetr01w', 'chapmji01w', 'birdsu01w', 'hallam01w', 'mahonsh01w', 'mooreta01w', 'ambermo01w', 'mccaibr01w', 'moosca01w', 'gardnan01w', 'frohlli01w', 'aguilel01w', 'willile02w'}\n",
            "Year: 4\n",
            "Rookies: {'lawsoka01w', 'ivanyda01w', 'sun-mju01w', 'malloso01w', 'donapbe01w', 'slavtge01w', 'edwarte01w', 'willish01w', 'coopecy01w', 'curryed01w', 'zirkozu01w', 'udokamf01w', 'fordch01w', 'umoh-it01w', 'yilmane01w', 'mckivte01w', 'adamsjo01w', 'blueoc01w', 'pennjo01w', 'brownco01w', 'ujhelpe01w', 'jacksgw01w', 'deforan01w', 'thomala01w', 'pierspl01w', 'colemco01w', 'dillata01w', 'johnsch01w', 'anderch01w', 'sharpkb01w', 'smithai01w', 'azizle01w', 'thorner01w', 'sanfona01w'}\n",
            "Year: 5\n",
            "Rookies: {'buttsta01w', 'futreca01w', 'stephst01w', 'willito01w', 'willile01w', 'derevje01w', 'chrissh01w', 'powelni01w', 'grecomi01w', 'brunsre01w', 'beardal01w', 'mendigi01w', 'bjorkte01w', 'bibrzag01w', 'tauradi01w', 'tilliic01w', 'ohldeni01w', 'perkiji01w', 'hoffmeb01w', 'brungje01w', 'mascira01w', 'jonesch01w', 'sanchis01w', 'wrighsh01w', 'carteam01w', 'haydeva01w', 'friertr01w', 'hodgedo01w', 'robinas01w', 'macchla01w', 'thomach01w', 'stevema01w', 'slauggw01w', 'jacobam01w', 'mazzake01w', 'whitede01w', 'whaleli01w', 'choneka01w', 'cokermo01w', 'tayloli01w'}\n",
            "Year: 6\n",
            "Rookies: {'mccarja01w', 'elysh01w', 'wrighta01w', 'hodgero01w', 'johnste01w', 'willian01w', 'newtoch01w', 'batkosu01w', 'kingbsu01w', 'irvinsa01w', 'miaomi01w', 'snellbe01w', 'careyja01w', 'vodopna01w', 'mooreje01w', 'weckeke01w', 'haynikr01w', 'braxtka01w', 'moorelo01w', 'lawsoed01w', 'bennije01w', 'battlas01w', 'zarafr01w', 'feifesu01w', 'nieuwma01w', 'summela01w', 'mannkr01w', 'whiteta01w', 'martinu01w', 'paigeyo01w', 'matteca01w', 'koehnla01w', 'batteja01w', 'kraayca01w', 'smithje01w', 'lyttlsa01w'}\n",
            "Year: 7\n",
            "Rookies: {'anderam01w', 'youngso01w', 'gomisem01w', 'ndongem01w', 'paliesa01w', 'dupreca01w', 'teilaza01w', 'willili01w', 'smithcr01w', 'bakersh01w', 'pondeca01w', 'vilipda01w', 'osipoir01w', 'philler01w', 'queenbr01w', 'leuchye01w', 'davisbr01w', 'stansti01w', 'lacyje01w', 'duffyme01w', 'augusse01w', 'kostaan01w', 'jamesta01w', 'atkinla01w', 'mahonme01w', 'greenci01w', 'turneba01w', 'flukety01w', 'ngarsch01w', 'moeggli01w', 'wilkibr01w', 'bondla01w', 'cronika01w', 'blueni01w', 'smithki01w', 'terryka01w', 'strotan01w', 'currimo01w', 'thorbsh01w'}\n",
            "Year: 8\n",
            "Rookies: {'joensca01w', 'hairska01w', 'moorena01w', 'murphsh01w', 'pricear01w', 'coggicl01w', 'spencsi01w', 'maltsev01w', 'littlca01w', 'raymost01w', 'doronsh01w', 'sandeam01w', 'weberma01w', 'thomaca01w', 'goringi01w', 'quinnno01w', 'shielas01w', 'davenje01w', 'mosbybe01w', 'chambco01w', 'davisde01w', 'lattaiv01w', 'balesal01w', 'smithty01w', 'fernama01w', 'gearlka01w', 'hardili01w', 'bowenli01w', 'granter01w', 'jacksti02w'}\n",
            "Year: 9\n",
            "Rookies: {'youngta01w', 'ajavoma01w', 'smithbr01w', 'quiglal01w', 'smithwa01w', 'fowlesy01w', 'whiteer01w', 'nnamach01w', 'atunrmo01w', 'anosini01w', 'humphta01w', 'gisseka01w', 'carsoes01w', 'harpela01w', 'larkier01w', 'crockwi01w', 'grudasa01w', 'pringla01w', 'ogayu01w', 'liebena01w', 'bobbish01w', 'mitchle01w', 'pageda01w', 'berezva01w', 'pascafl01w', 'gardike01w', 'frankaq01w', 'givench01w', 'oneilkr01w', 'swanike01w', 'langhcr01w', 'zollsh01w', 'walkema01w', 'rushle01w', 'whittkh01w', 'holmese01w', 'chanequ01w', 'allench01w', 'beckki01w', 'holtam01w', 'parkeca01w', 'anderjo01w', 'vaughkr01w', 'hornbal01w', 'rossad01w', 'houstch01w', 'kellycr01w', 'sanniol01w', 'wiggica01w'}\n",
            "Year: 10\n",
            "Rookies: {'walkeas01w', 'bonnede01w', 'millebr01w', 'zellosh01w', 'colemma01w', 'mccanra01w', 'tolivkr01w', 'holliqu01w', 'mccouan01w', 'januabr01w', 'montaan01w', 'parisco01w', 'montgre01w', 'vaughki01w', 'ervinla01w', 'cironkr01w', 'frazeme01w', 'lehnish01w', 'jekaban01w', 'boddiwh01w', 'nanch01w', 'blackch01w', 'wisdoli01w', 'wirthch01w', 'davista02w'}\n"
          ]
        }
      ],
      "source": [
        "# Function to identify rookies by year\n",
        "def get_rookies_by_year(players_teams):\n",
        "    players_teams = players_teams.sort_values(by=['year'])\n",
        "    rookies_by_year = {}\n",
        "    min_year = players_teams['year'].min()\n",
        "    max_year = players_teams['year'].max()\n",
        "    previous_years_players = set()\n",
        "\n",
        "    for year in range(min_year + 1, max_year + 1):\n",
        "        current_years = players_teams[players_teams['year'] == year]\n",
        "        current_years_players = set(current_years['playerID'])\n",
        "\n",
        "        rookies = current_years_players - previous_years_players\n",
        "        rookies_by_year[year] = rookies\n",
        "\n",
        "        previous_years_players.update(current_years_players)\n",
        "\n",
        "    return rookies_by_year\n",
        "\n",
        "rookies_by_year = get_rookies_by_year(players_teams)\n",
        "\n",
        "for year, rookies in rookies_by_year.items():\n",
        "    print(f\"Year: {year}\")\n",
        "    print(f\"Rookies: {rookies}\")"
      ]
    },
    {
      "cell_type": "code",
      "execution_count": 11,
      "id": "b93ec362",
      "metadata": {},
      "outputs": [
        {
          "name": "stdout",
          "output_type": "stream",
          "text": [
            "\n",
            "Comparison with Actual Awards Data:\n",
            "Year: 2, Predicted: griffyo01w, Result: ❌ Incorrect (Actual: stileja01w), Calculated Performance of Actual Rookie of the Year: 307\n",
            "Year: 3, Predicted: catchta01w, Result: ✅ Correct\n",
            "Year: 4, Predicted: fordch01w, Result: ✅ Correct\n",
            "Year: 5, Predicted: tauradi01w, Result: ✅ Correct\n",
            "Year: 6, Predicted: johnste01w, Result: ✅ Correct\n",
            "Year: 7, Predicted: augusse01w, Result: ✅ Correct\n",
            "Year: 8, Predicted: pricear01w, Result: ✅ Correct\n",
            "Year: 9, Predicted: parkeca01w, Result: ✅ Correct\n",
            "Year: 10, Predicted: bonnede01w, Result: ❌ Incorrect (Actual: mccouan01w), Calculated Performance of Actual Rookie of the Year: 414\n"
          ]
        }
      ],
      "source": [
        "# Calculate Performance of Rookies in all years\n",
        "# Performance Formula : ((Points + Rebounds + Assists + Steals + Blocks) - ((Field Goals Att. - Field Goals Made) + (Free Throws Att. - Free Throws Made) + Turnovers))\n",
        "\n",
        "rookie_performance = {}\n",
        "\n",
        "# Function to calculate performance for a single player in a given year\n",
        "def calculate_player_yearly_performance(year, player_id):\n",
        "    stats = players_teams[(players_teams['year'] == year) & (players_teams['playerID'] == player_id)]\n",
        "    if stats.empty:\n",
        "        return 0\n",
        "    points = stats['points'].values[0]\n",
        "    rebounds = stats['rebounds'].values[0]\n",
        "    assists = stats['assists'].values[0]\n",
        "    steals = stats['steals'].values[0]\n",
        "    blocks = stats['blocks'].values[0]\n",
        "    fg_att = stats['fgAttempted'].values[0]\n",
        "    fg_made = stats['fgMade'].values[0]\n",
        "    ft_att = stats['ftAttempted'].values[0]\n",
        "    ft_made = stats['ftMade'].values[0]\n",
        "    turnovers = stats['turnovers'].values[0]\n",
        "\n",
        "    performance = (points + rebounds + assists + steals + blocks) - ((fg_att - fg_made) + (ft_att - ft_made) + turnovers)\n",
        "    return performance\n",
        "\n",
        "# Function to calculate performance for all rookies in a given year\n",
        "def calculate_rookies_yearly_performance(year, players_teams):\n",
        "    rookies = get_rookies_by_year(players_teams).get(year, [])\n",
        "    for rookie in rookies:\n",
        "        performance = calculate_player_yearly_performance(year, rookie)\n",
        "        rookie_performance[(year, rookie)] = performance\n",
        "    return rookie_performance\n",
        "\n",
        "for year, rookies in rookies_by_year.items():\n",
        "    rookie_performance = calculate_rookies_yearly_performance(year, players_teams)\n",
        "\n",
        "# Display Rookie of the Year for each year\n",
        "rookie_of_the_year = {}\n",
        "for year, rookies in rookies_by_year.items():\n",
        "    best_rookie = None\n",
        "    best_performance = float('-inf')\n",
        "    for rookie in rookies:\n",
        "        performance = rookie_performance.get((year, rookie), 0)\n",
        "        if performance > best_performance:\n",
        "            best_performance = performance\n",
        "            best_rookie = rookie\n",
        "    rookie_of_the_year[year] = (best_rookie, best_performance)\n",
        "\n",
        "# Compare with actual awards data\n",
        "print(\"\\nComparison with Actual Awards Data:\")\n",
        "actual_awards = awards[awards['award'] == 'Rookie of the Year']\n",
        "actual_awards = actual_awards[['year', 'playerID']]\n",
        "actual_awards_dict = dict(zip(actual_awards['year'], actual_awards['playerID']))\n",
        "for year, (predicted_rookie, _) in rookie_of_the_year.items():\n",
        "    actual_rookie = actual_awards_dict.get(year)\n",
        "\n",
        "    if actual_rookie == predicted_rookie:\n",
        "        print(f\"Year: {year}, Predicted: {predicted_rookie}, Result: ✅ Correct\")\n",
        "    else:\n",
        "        actual_perf = rookie_performance.get((year, actual_rookie), 'N/A')\n",
        "        print(\n",
        "            f\"Year: {year}, Predicted: {predicted_rookie}, Result: ❌ Incorrect \"\n",
        "            f\"(Actual: {actual_rookie}), \"\n",
        "            f\"Calculated Performance of Actual Rookie of the Year: {actual_perf}\"\n",
        "        )\n",
        "\n"
      ]
    }
  ],
  "metadata": {
    "kernelspec": {
      "display_name": "EnvACFinal",
      "language": "python",
      "name": "python3"
    },
    "language_info": {
      "codemirror_mode": {
        "name": "ipython",
        "version": 3
      },
      "file_extension": ".py",
      "mimetype": "text/x-python",
      "name": "python",
      "nbconvert_exporter": "python",
      "pygments_lexer": "ipython3",
      "version": "3.11.13"
    }
  },
  "nbformat": 4,
  "nbformat_minor": 5
}
