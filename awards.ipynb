{
  "cells": [
    {
      "cell_type": "markdown",
      "id": "ae37ae46",
      "metadata": {},
      "source": [
        "## Notebook to answer question c: Who won each of the individual awards"
      ]
    },
    {
      "cell_type": "code",
      "execution_count": 2,
      "id": "df60e6a3",
      "metadata": {},
      "outputs": [],
      "source": [
        "# Load datasets\n",
        "import pandas as pd\n",
        "import matplotlib as mpl\n",
        "import matplotlib.pyplot as plt\n",
        "import numpy as np\n",
        "from pathlib import Path\n",
        "\n",
        "players_teams = pd.read_csv(\"project_data/players_teams.csv\")\n",
        "awards = pd.read_csv(\"project_data/awards_players.csv\")\n",
        "players = pd.read_csv(\"project_data/players_clean.csv\")"
      ]
    },
    {
      "cell_type": "markdown",
      "id": "c170bff4",
      "metadata": {},
      "source": [
        "### 1. Rookie of the Year Award"
      ]
    },
    {
      "cell_type": "code",
      "execution_count": 3,
      "id": "1dd19017",
      "metadata": {},
      "outputs": [
        {
          "name": "stdout",
          "output_type": "stream",
          "text": [
            "Year: 2\n",
            "Rookies: {'nemcoev01w', 'weathte01w', 'burseja01w', 'frettla01w', 'mabikmw01w', 'millsta01w', 'robincr01w', 'baranel01w', 'hillec01w', 'goodsad01w', 'edwarsi01w', 'smithta01w', 'witheso01w', 'williwe01w', 'johnsja01w', 'azzije01w', 'coopeca01w', 'jacksta02w', 'pavlimi01w', 'lobore01w', 'brumfma01w', 'barnequ01w', 'iveyni01w', 'daleygr01w', 'edwarto01w', 'mccrini01w', 'stockta01w', 'gibsoke01w', 'torniel01w', 'tuvicsl01w', 'enissh01w', 'reedbr01w', 'suttota01w', 'edwarmi01w', 'jonesme01w', 'darlihe01w', 'holdsch01w', 'radunha01w', 'groomla01w', 'smithch02w', 'stileja01w', 'brazian01w', 'williad01w', 'alhalta01w', 'taylope01w', 'wautean01w', 'campbed01w', 'browned01w', 'bullevi01w', 'streiju01w', 'wynneda01w', 'blodgci01w', 'luzhe01w', 'rizzoje01w', 'smithch03w', 'wickssu01w', 'barnead01w', 'griffyo01w', 'schwege01w', 'crawlsy01w', 'ferdima01w', 'farriba01w', 'lovelst01w', 'erbsu01w', 'reidtr01w', 'jacksta01w', 'mcgheca01w', 'consuca01w', 'levanni01w', 'hendene01w', 'korstil01w', 'nagyan01w', 'santoke01w', 'torrele01w', 'clearmi01w', 'pettibr01w', 'boltoru01w', 'aldrima01w', 'scottol01w', 'johnsla01w', 'nevescl01w', 'cantydo01w', 'machacl01w', 'pagemu01w', 'thompal01w', 'martima01w', 'saundja01w', 'bristre01w', 'amachma01w', 'dossaci01w', 'askamma01w', 'malcona01w', 'hicksje01w', 'milleke01w', 'bauerca01w', 'washico01w', 'brownru01w', 'samsh01w', 'burgean01w', 'fallotr01w', 'payeka01w', 'wolteka01w', 'vangomi01w', 'stinsan01w', 'lewisty01w', 'gilloje01w', 'harrokr01w', 'johnspo01w', 'moisead01w', 'melvich01w', 'beviltu01w', 'mcwilta01w', 'willina01w', 'burraal01w', 'stiresh01w', 'arcaija01w', 'moweje01w', 'timmsmi01w', 'johnssh01w', 'blackde01w', 'jacksla01w', 'fordst01w', 'youngca01w', 'marcimi01w', 'whitiva01w', 'mccrani01w', 'fordki01w', 'washito01w', 'harrili01w', 'byearla01w', 'folklkr01w', 'vealkr01w', 'lazicka01w', 'whitmta01w', 'stafftr01w', 'shakiel01w', 'whittje01w', 'staleda01w', 'kingija01w', 'figgsuk01w', 'mccaiti01w', 'mccarst01w', 'barksla01w', 'sauerpa01w', 'dixonta01w', 'johnsvi01w', 'kubikni01w', 'williri01w', 'wolvean01w', 'penicti01w', 'smithka01w', 'stedika01w', 'hammobe01w', 'mcculda01w', 'powelel01w', 'brondsa01w', 'walsema01w', 'feastal01w', 'colleka01w', 'hledeko01w', 'anderke01w', 'rasmukr01w', 'pridely01w', 'miltode01w', 'starbka01w', 'nygaava01w', 'maxwemo01w', 'reddja01w', 'lassiam01w', 'grginve01w', 'walkede01w', 'dydekma01w', 'lennobe01w', 'clinest01w', 'milleco01w', 'saureau01w', 'abrossv01w', 'rileyru01w', 'schumke01w', 'hallvi01w', 'phillta01w', 'stepama01w', 'andrame01w', 'hollake01w', 'badertr01w', 'dickeke01w', 'nolande01w', 'vodicka01w', 'spornra01w', 'santoal01w', 'ndiayas01w', 'mapprh01w', 'salesny01w', 'grubigo01w', 'herriam01w', 'leslili01w', 'luckepa01w', 'boydca01w', 'palmewe01w', 'johnsti01w', 'thomast01w', 'douglka01w', 'thompti01w', 'randase01w', 'wyckobr01w', 'henniso01w'}\n",
            "Year: 3\n",
            "Rookies: {'moosca01w', 'maigaha01w', 'jonesas01w', 'klimezu01w', 'hallam01w', 'desouer01w', 'owenssh01w', 'bonfisu01w', 'zakalok01w', 'berthlu01w', 'aguilel01w', 'mooreta01w', 'garcibe01w', 'snowmi01w', 'ngoyibe01w', 'gardnan01w', 'castriz01w', 'cunnida01w', 'hendetr01w', 'swoopsh01w', 'frohlli01w', 'lambesh01w', 'ambermo01w', 'cashsw01w', 'chapmji01w', 'birdsu01w', 'willile02w', 'gaithka01w', 'lewista01w', 'raglafe01w', 'catchta01w', 'jacksde01w', 'mccaibr01w', 'johnsad01w', 'yamasli01w', 'gortmsh01w', 'mahonsh01w', 'chriska01w', 'caufila01w', 'crockda01w', 'brownki01w', 'mooreja01w', 'dalesst01w', 'teaslni01w', 'walkeay01w'}\n",
            "Year: 4\n",
            "Rookies: {'colemco01w', 'johnsch01w', 'donapbe01w', 'coopecy01w', 'dillata01w', 'lawsoka01w', 'yilmane01w', 'jacksgw01w', 'zirkozu01w', 'malloso01w', 'curryed01w', 'edwarte01w', 'adamsjo01w', 'pennjo01w', 'mckivte01w', 'thomala01w', 'sanfona01w', 'brownco01w', 'fordch01w', 'deforan01w', 'smithai01w', 'pierspl01w', 'slavtge01w', 'sun-mju01w', 'thorner01w', 'sharpkb01w', 'azizle01w', 'umoh-it01w', 'anderch01w', 'willish01w', 'ivanyda01w', 'udokamf01w', 'ujhelpe01w', 'blueoc01w'}\n",
            "Year: 5\n",
            "Rookies: {'friertr01w', 'derevje01w', 'sanchis01w', 'macchla01w', 'thomach01w', 'bjorkte01w', 'haydeva01w', 'stephst01w', 'mascira01w', 'chrissh01w', 'brunsre01w', 'stevema01w', 'ohldeni01w', 'tayloli01w', 'hodgedo01w', 'futreca01w', 'brungje01w', 'whitede01w', 'slauggw01w', 'grecomi01w', 'perkiji01w', 'jacobam01w', 'powelni01w', 'beardal01w', 'mendigi01w', 'willile01w', 'cokermo01w', 'robinas01w', 'hoffmeb01w', 'bibrzag01w', 'tauradi01w', 'choneka01w', 'wrighsh01w', 'whaleli01w', 'tilliic01w', 'buttsta01w', 'mazzake01w', 'willito01w', 'carteam01w', 'jonesch01w'}\n",
            "Year: 6\n",
            "Rookies: {'mannkr01w', 'vodopna01w', 'paigeyo01w', 'newtoch01w', 'batteja01w', 'careyja01w', 'willian01w', 'bennije01w', 'smithje01w', 'wrighta01w', 'lawsoed01w', 'johnste01w', 'mooreje01w', 'koehnla01w', 'mccarja01w', 'braxtka01w', 'snellbe01w', 'kingbsu01w', 'miaomi01w', 'kraayca01w', 'feifesu01w', 'zarafr01w', 'nieuwma01w', 'elysh01w', 'whiteta01w', 'hodgero01w', 'weckeke01w', 'batkosu01w', 'haynikr01w', 'martinu01w', 'matteca01w', 'irvinsa01w', 'moorelo01w', 'lyttlsa01w', 'summela01w', 'battlas01w'}\n",
            "Year: 7\n",
            "Rookies: {'blueni01w', 'davisbr01w', 'wilkibr01w', 'osipoir01w', 'kostaan01w', 'willili01w', 'bondla01w', 'turneba01w', 'jamesta01w', 'strotan01w', 'gomisem01w', 'augusse01w', 'leuchye01w', 'ngarsch01w', 'ndongem01w', 'bakersh01w', 'paliesa01w', 'stansti01w', 'smithki01w', 'mahonme01w', 'queenbr01w', 'duffyme01w', 'thorbsh01w', 'philler01w', 'lacyje01w', 'dupreca01w', 'vilipda01w', 'cronika01w', 'atkinla01w', 'greenci01w', 'currimo01w', 'moeggli01w', 'pondeca01w', 'flukety01w', 'terryka01w', 'youngso01w', 'smithcr01w', 'anderam01w', 'teilaza01w'}\n",
            "Year: 8\n",
            "Rookies: {'mosbybe01w', 'coggicl01w', 'joensca01w', 'davisde01w', 'hardili01w', 'moorena01w', 'davenje01w', 'thomaca01w', 'spencsi01w', 'chambco01w', 'murphsh01w', 'goringi01w', 'jacksti02w', 'hairska01w', 'pricear01w', 'balesal01w', 'quinnno01w', 'maltsev01w', 'gearlka01w', 'granter01w', 'littlca01w', 'fernama01w', 'shielas01w', 'sandeam01w', 'doronsh01w', 'lattaiv01w', 'raymost01w', 'weberma01w', 'bowenli01w', 'smithty01w'}\n",
            "Year: 9\n",
            "Rookies: {'crockwi01w', 'chanequ01w', 'swanike01w', 'youngta01w', 'pringla01w', 'liebena01w', 'smithwa01w', 'quiglal01w', 'sanniol01w', 'larkier01w', 'whittkh01w', 'gisseka01w', 'zollsh01w', 'kellycr01w', 'nnamach01w', 'smithbr01w', 'whiteer01w', 'berezva01w', 'hornbal01w', 'houstch01w', 'rushle01w', 'ogayu01w', 'fowlesy01w', 'humphta01w', 'mitchle01w', 'oneilkr01w', 'grudasa01w', 'harpela01w', 'langhcr01w', 'rossad01w', 'carsoes01w', 'holmese01w', 'pageda01w', 'holtam01w', 'allench01w', 'anderjo01w', 'ajavoma01w', 'givench01w', 'vaughkr01w', 'walkema01w', 'pascafl01w', 'beckki01w', 'frankaq01w', 'atunrmo01w', 'bobbish01w', 'gardike01w', 'anosini01w', 'wiggica01w', 'parkeca01w'}\n",
            "Year: 10\n",
            "Rookies: {'frazeme01w', 'ervinla01w', 'holliqu01w', 'bonnede01w', 'tolivkr01w', 'mccanra01w', 'jekaban01w', 'parisco01w', 'wirthch01w', 'montaan01w', 'millebr01w', 'wisdoli01w', 'boddiwh01w', 'lehnish01w', 'zellosh01w', 'vaughki01w', 'blackch01w', 'walkeas01w', 'cironkr01w', 'davista02w', 'montgre01w', 'januabr01w', 'colemma01w', 'nanch01w', 'mccouan01w'}\n"
          ]
        }
      ],
      "source": [
        "# List of rookie players for each year in the dataset.\n",
        "\n",
        "rookies_by_year = {}\n",
        "min_year = players_teams['year'].min()\n",
        "max_year = players_teams['year'].max()\n",
        "previous_years_players = set()\n",
        "\n",
        "for year in range(min_year + 1,max_year + 1):\n",
        "    current_years = players_teams[players_teams['year'] == year]\n",
        "    current_years_players = set(current_years['playerID'])\n",
        "\n",
        "    rookies = current_years_players - previous_years_players\n",
        "    rookies_by_year[year] = rookies\n",
        "\n",
        "    previous_years_players.update(current_years_players)\n",
        "\n",
        "for year, rookies in rookies_by_year.items():\n",
        "    print(f\"Year: {year}\")\n",
        "    print(f\"Rookies: {rookies}\")"
      ]
    },
    {
      "cell_type": "code",
      "execution_count": 4,
      "id": "b93ec362",
      "metadata": {},
      "outputs": [
        {
          "name": "stdout",
          "output_type": "stream",
          "text": [
            "Year: 2, Rookie of the Year: griffyo01w, Performance: 726\n",
            "Year: 3, Rookie of the Year: catchta01w, Performance: 754\n",
            "Year: 4, Rookie of the Year: fordch01w, Performance: 506\n",
            "Year: 5, Rookie of the Year: tauradi01w, Performance: 512\n",
            "Year: 6, Rookie of the Year: johnste01w, Performance: 391\n",
            "Year: 7, Rookie of the Year: augusse01w, Performance: 536\n",
            "Year: 8, Rookie of the Year: pricear01w, Performance: 350\n",
            "Year: 9, Rookie of the Year: parkeca01w, Performance: 799\n",
            "Year: 10, Rookie of the Year: bonnede01w, Performance: 424\n",
            "\n",
            "Comparison with Actual Awards Data:\n",
            "Year: 2, Predicted: griffyo01w, Result: ❌ Incorrect (Actual: stileja01w), Calculated Performance of Actual Rookie of the Year: 307\n",
            "Year: 3, Predicted: catchta01w, Result: ✅ Correct\n",
            "Year: 4, Predicted: fordch01w, Result: ✅ Correct\n",
            "Year: 5, Predicted: tauradi01w, Result: ✅ Correct\n",
            "Year: 6, Predicted: johnste01w, Result: ✅ Correct\n",
            "Year: 7, Predicted: augusse01w, Result: ✅ Correct\n",
            "Year: 8, Predicted: pricear01w, Result: ✅ Correct\n",
            "Year: 9, Predicted: parkeca01w, Result: ✅ Correct\n",
            "Year: 10, Predicted: bonnede01w, Result: ❌ Incorrect (Actual: mccouan01w), Calculated Performance of Actual Rookie of the Year: 414\n"
          ]
        }
      ],
      "source": [
        "# Calculate Performance of Rookies in all years\n",
        "# Performance Formula : ((Points + Rebounds + Assists + Steals + Blocks) - ((Field Goals Att. - Field Goals Made) + (Free Throws Att. - Free Throws Made) + Turnovers))\n",
        "\n",
        "rookie_performance = {}\n",
        "\n",
        "for year, rookies in rookies_by_year.items():\n",
        "    current_years_stats = players_teams[players_teams['year'] == year]\n",
        "    for rookie in rookies:\n",
        "        rookie_stats = current_years_stats[current_years_stats['playerID'] == rookie]\n",
        "        if not rookie_stats.empty:\n",
        "            points = rookie_stats['points'].values[0]\n",
        "            rebounds = rookie_stats['rebounds'].values[0]\n",
        "            assists = rookie_stats['assists'].values[0]\n",
        "            steals = rookie_stats['steals'].values[0]\n",
        "            blocks = rookie_stats['blocks'].values[0]\n",
        "            fg_att = rookie_stats['fgAttempted'].values[0]\n",
        "            fg_made = rookie_stats['fgMade'].values[0]\n",
        "            ft_att = rookie_stats['ftAttempted'].values[0]\n",
        "            ft_made = rookie_stats['ftMade'].values[0]\n",
        "            turnovers = rookie_stats['turnovers'].values[0]\n",
        "\n",
        "            performance = (points + rebounds + assists + steals + blocks) - ((fg_att - fg_made) + (ft_att - ft_made) + turnovers)\n",
        "            rookie_performance[(year, rookie)] = performance\n",
        "        else:\n",
        "            rookie_performance[(year, rookie)] = 0\n",
        "\n",
        "# Identify Rookie of the Year for each year\n",
        "rookie_of_the_year = {}\n",
        "\n",
        "for year in range(min_year + 1, max_year + 1):\n",
        "    rookies = rookies_by_year[year]\n",
        "    best_rookie = None\n",
        "    best_performance = float('-inf')\n",
        "    for rookie in rookies:\n",
        "        performance = rookie_performance.get((year, rookie), 0)\n",
        "        if performance > best_performance:\n",
        "            best_performance = performance\n",
        "            best_rookie = rookie\n",
        "    rookie_of_the_year[year] = (best_rookie, best_performance)\n",
        "\n",
        "# Display Rookie of the Year for each year\n",
        "for year, (rookie, performance) in rookie_of_the_year.items():\n",
        "    print(f\"Year: {year}, Rookie of the Year: {rookie}, Performance: {performance}\")\n",
        "\n",
        "# Compare with actual awards data\n",
        "print(\"\\nComparison with Actual Awards Data:\")\n",
        "actual_awards = awards[awards['award'] == 'Rookie of the Year']\n",
        "actual_awards = actual_awards[['year', 'playerID']]\n",
        "actual_awards_dict = dict(zip(actual_awards['year'], actual_awards['playerID']))\n",
        "for year, (predicted_rookie, _) in rookie_of_the_year.items():\n",
        "    actual_rookie = actual_awards_dict.get(year)\n",
        "\n",
        "    if actual_rookie == predicted_rookie:\n",
        "        print(f\"Year: {year}, Predicted: {predicted_rookie}, Result: ✅ Correct\")\n",
        "    else:\n",
        "        actual_perf = rookie_performance.get((year, actual_rookie), 'N/A')\n",
        "        print(\n",
        "            f\"Year: {year}, Predicted: {predicted_rookie}, Result: ❌ Incorrect \"\n",
        "            f\"(Actual: {actual_rookie}), \"\n",
        "            f\"Calculated Performance of Actual Rookie of the Year: {actual_perf}\"\n",
        "        )\n",
        "\n"
      ]
    }
  ],
  "metadata": {
    "kernelspec": {
      "display_name": "myenv",
      "language": "python",
      "name": "python3"
    },
    "language_info": {
      "codemirror_mode": {
        "name": "ipython",
        "version": 3
      },
      "file_extension": ".py",
      "mimetype": "text/x-python",
      "name": "python",
      "nbconvert_exporter": "python",
      "pygments_lexer": "ipython3",
      "version": "3.13.5"
    }
  },
  "nbformat": 4,
  "nbformat_minor": 5
}
