{
 "cells": [
  {
   "cell_type": "markdown",
   "id": "ae37ae46",
   "metadata": {},
   "source": [
    "## Notebook to answer question c: Who won each of the individual awards"
   ]
  },
  {
   "cell_type": "code",
   "execution_count": 5,
   "id": "df60e6a3",
   "metadata": {},
   "outputs": [],
   "source": [
    "# Load datasets\n",
    "import pandas as pd\n",
    "import matplotlib as mpl\n",
    "import matplotlib.pyplot as plt\n",
    "import numpy as np\n",
    "from pathlib import Path\n",
    "\n",
    "players_teams = pd.read_csv(\"project_data/players_teams.csv\")\n",
    "awards = pd.read_csv(\"project_data/awards_players.csv\")\n",
    "players = pd.read_csv(\"project_data/players_clean.csv\")"
   ]
  },
  {
   "cell_type": "markdown",
   "id": "c170bff4",
   "metadata": {},
   "source": [
    "### 1. Rookie of the Year Award"
   ]
  },
  {
   "cell_type": "code",
   "execution_count": 6,
   "id": "1dd19017",
   "metadata": {},
   "outputs": [
    {
     "name": "stdout",
     "output_type": "stream",
     "text": [
      "Year: 2\n",
      "Rookies: {'baranel01w', 'johnsja01w', 'hledeko01w', 'miltode01w', 'erbsu01w', 'byearla01w', 'rileyru01w', 'iveyni01w', 'levanni01w', 'edwarto01w', 'scottol01w', 'whitiva01w', 'andrame01w', 'leslili01w', 'farriba01w', 'korstil01w', 'martima01w', 'spornra01w', 'johnspo01w', 'reidtr01w', 'milleke01w', 'anderke01w', 'johnsvi01w', 'santoke01w', 'taylope01w', 'stockta01w', 'saundja01w', 'moweje01w', 'jacksta02w', 'griffyo01w', 'smithta01w', 'mccrini01w', 'dydekma01w', 'ferdima01w', 'burraal01w', 'reedbr01w', 'milleco01w', 'brumfma01w', 'edwarsi01w', 'kubikni01w', 'robincr01w', 'edwarmi01w', 'dossaci01w', 'lazicka01w', 'mcwilta01w', 'payeka01w', 'azzije01w', 'millsta01w', 'marcimi01w', 'ndiayas01w', 'stiresh01w', 'folklkr01w', 'jacksla01w', 'nygaava01w', 'dixonta01w', 'weathte01w', 'johnssh01w', 'hillec01w', 'bullevi01w', 'barksla01w', 'daleygr01w', 'stepama01w', 'burseja01w', 'malcona01w', 'pettibr01w', 'wautean01w', 'vangomi01w', 'dickeke01w', 'thompti01w', 'beviltu01w', 'smithch03w', 'stedika01w', 'walsema01w', 'maxwemo01w', 'brownru01w', 'kingija01w', 'holdsch01w', 'frettla01w', 'saureau01w', 'salesny01w', 'lewisty01w', 'askamma01w', 'williri01w', 'washico01w', 'lennobe01w', 'phillta01w', 'barnead01w', 'burgean01w', 'fordst01w', 'fordki01w', 'vealkr01w', 'grginve01w', 'hicksje01w', 'bauerca01w', 'melvich01w', 'wynneda01w', 'mabikmw01w', 'stileja01w', 'williwe01w', 'wickssu01w', 'colleka01w', 'santoal01w', 'vodicka01w', 'stinsan01w', 'mcculda01w', 'timmsmi01w', 'johnsla01w', 'abrossv01w', 'thomast01w', 'radunha01w', 'reddja01w', 'clinest01w', 'pagemu01w', 'coopeca01w', 'grubigo01w', 'nevescl01w', 'lovelst01w', 'moisead01w', 'luckepa01w', 'consuca01w', 'mapprh01w', 'hallvi01w', 'lassiam01w', 'mccrani01w', 'suttota01w', 'alhalta01w', 'staleda01w', 'smithch02w', 'harrili01w', 'amachma01w', 'whittje01w', 'youngca01w', 'boltoru01w', 'gilloje01w', 'hendene01w', 'figgsuk01w', 'blodgci01w', 'williad01w', 'sauerpa01w', 'wolvean01w', 'crawlsy01w', 'mcgheca01w', 'pavlimi01w', 'schwege01w', 'hammobe01w', 'washito01w', 'brazian01w', 'cantydo01w', 'herriam01w', 'fallotr01w', 'samsh01w', 'feastal01w', 'streiju01w', 'barnequ01w', 'brondsa01w', 'douglka01w', 'torniel01w', 'henniso01w', 'schumke01w', 'badertr01w', 'darlihe01w', 'groomla01w', 'starbka01w', 'rizzoje01w', 'thompal01w', 'jonesme01w', 'tuvicsl01w', 'pridely01w', 'smithka01w', 'wyckobr01w', 'lobore01w', 'goodsad01w', 'mccarst01w', 'palmewe01w', 'stafftr01w', 'campbed01w', 'nagyan01w', 'hollake01w', 'nolande01w', 'rasmukr01w', 'arcaija01w', 'gibsoke01w', 'harrokr01w', 'torrele01w', 'willina01w', 'aldrima01w', 'browned01w', 'nemcoev01w', 'machacl01w', 'wolteka01w', 'enissh01w', 'shakiel01w', 'witheso01w', 'blackde01w', 'boydca01w', 'bristre01w', 'luzhe01w', 'walkede01w', 'jacksta01w', 'johnsti01w', 'powelel01w', 'clearmi01w', 'mccaiti01w', 'whitmta01w', 'penicti01w', 'randase01w'}\n",
      "Year: 3\n",
      "Rookies: {'owenssh01w', 'castriz01w', 'chriska01w', 'desouer01w', 'klimezu01w', 'cashsw01w', 'raglafe01w', 'swoopsh01w', 'maigaha01w', 'bonfisu01w', 'hendetr01w', 'garcibe01w', 'brownki01w', 'moosca01w', 'lewista01w', 'mooreja01w', 'catchta01w', 'jonesas01w', 'gortmsh01w', 'birdsu01w', 'mooreta01w', 'gardnan01w', 'frohlli01w', 'willile02w', 'lambesh01w', 'johnsad01w', 'caufila01w', 'gaithka01w', 'hallam01w', 'aguilel01w', 'zakalok01w', 'teaslni01w', 'walkeay01w', 'yamasli01w', 'dalesst01w', 'cunnida01w', 'chapmji01w', 'crockda01w', 'berthlu01w', 'mahonsh01w', 'ambermo01w', 'ngoyibe01w', 'mccaibr01w', 'jacksde01w', 'snowmi01w'}\n",
      "Year: 4\n",
      "Rookies: {'pennjo01w', 'ujhelpe01w', 'pierspl01w', 'sharpkb01w', 'donapbe01w', 'thomala01w', 'colemco01w', 'johnsch01w', 'fordch01w', 'thorner01w', 'mckivte01w', 'azizle01w', 'sanfona01w', 'willish01w', 'deforan01w', 'dillata01w', 'jacksgw01w', 'brownco01w', 'yilmane01w', 'umoh-it01w', 'edwarte01w', 'blueoc01w', 'ivanyda01w', 'curryed01w', 'coopecy01w', 'sun-mju01w', 'udokamf01w', 'malloso01w', 'lawsoka01w', 'slavtge01w', 'anderch01w', 'adamsjo01w', 'smithai01w', 'zirkozu01w'}\n",
      "Year: 5\n",
      "Rookies: {'robinas01w', 'choneka01w', 'cokermo01w', 'carteam01w', 'brunsre01w', 'macchla01w', 'sanchis01w', 'beardal01w', 'bjorkte01w', 'willile01w', 'stevema01w', 'perkiji01w', 'whitede01w', 'wrighsh01w', 'slauggw01w', 'hodgedo01w', 'tauradi01w', 'grecomi01w', 'thomach01w', 'tilliic01w', 'powelni01w', 'buttsta01w', 'stephst01w', 'friertr01w', 'derevje01w', 'mazzake01w', 'brungje01w', 'hoffmeb01w', 'bibrzag01w', 'tayloli01w', 'jacobam01w', 'jonesch01w', 'whaleli01w', 'haydeva01w', 'mascira01w', 'chrissh01w', 'futreca01w', 'willito01w', 'ohldeni01w', 'mendigi01w'}\n",
      "Year: 6\n",
      "Rookies: {'martinu01w', 'zarafr01w', 'mccarja01w', 'haynikr01w', 'nieuwma01w', 'hodgero01w', 'lawsoed01w', 'vodopna01w', 'kingbsu01w', 'moorelo01w', 'koehnla01w', 'summela01w', 'braxtka01w', 'elysh01w', 'batkosu01w', 'snellbe01w', 'bennije01w', 'mooreje01w', 'johnste01w', 'smithje01w', 'lyttlsa01w', 'weckeke01w', 'paigeyo01w', 'batteja01w', 'kraayca01w', 'matteca01w', 'miaomi01w', 'feifesu01w', 'wrighta01w', 'careyja01w', 'mannkr01w', 'battlas01w', 'irvinsa01w', 'whiteta01w', 'newtoch01w', 'willian01w'}\n",
      "Year: 7\n",
      "Rookies: {'mahonme01w', 'stansti01w', 'blueni01w', 'duffyme01w', 'anderam01w', 'willili01w', 'queenbr01w', 'turneba01w', 'strotan01w', 'greenci01w', 'bakersh01w', 'kostaan01w', 'smithki01w', 'bondla01w', 'lacyje01w', 'dupreca01w', 'ngarsch01w', 'youngso01w', 'paliesa01w', 'moeggli01w', 'pondeca01w', 'flukety01w', 'osipoir01w', 'terryka01w', 'davisbr01w', 'leuchye01w', 'augusse01w', 'teilaza01w', 'vilipda01w', 'atkinla01w', 'ndongem01w', 'currimo01w', 'smithcr01w', 'wilkibr01w', 'philler01w', 'jamesta01w', 'thorbsh01w', 'cronika01w', 'gomisem01w'}\n",
      "Year: 8\n",
      "Rookies: {'davenje01w', 'lattaiv01w', 'hardili01w', 'goringi01w', 'quinnno01w', 'chambco01w', 'maltsev01w', 'shielas01w', 'hairska01w', 'spencsi01w', 'jacksti02w', 'gearlka01w', 'granter01w', 'thomaca01w', 'smithty01w', 'balesal01w', 'sandeam01w', 'doronsh01w', 'fernama01w', 'joensca01w', 'raymost01w', 'murphsh01w', 'mosbybe01w', 'davisde01w', 'coggicl01w', 'bowenli01w', 'weberma01w', 'littlca01w', 'pricear01w', 'moorena01w'}\n",
      "Year: 9\n",
      "Rookies: {'langhcr01w', 'pringla01w', 'fowlesy01w', 'whittkh01w', 'houstch01w', 'parkeca01w', 'gisseka01w', 'anosini01w', 'oneilkr01w', 'pageda01w', 'mitchle01w', 'larkier01w', 'harpela01w', 'wiggica01w', 'smithbr01w', 'ogayu01w', 'swanike01w', 'nnamach01w', 'ajavoma01w', 'givench01w', 'hornbal01w', 'frankaq01w', 'berezva01w', 'allench01w', 'pascafl01w', 'quiglal01w', 'gardike01w', 'walkema01w', 'carsoes01w', 'zollsh01w', 'kellycr01w', 'whiteer01w', 'atunrmo01w', 'holmese01w', 'grudasa01w', 'holtam01w', 'smithwa01w', 'liebena01w', 'rossad01w', 'beckki01w', 'humphta01w', 'crockwi01w', 'vaughkr01w', 'chanequ01w', 'youngta01w', 'anderjo01w', 'sanniol01w', 'bobbish01w', 'rushle01w'}\n",
      "Year: 10\n",
      "Rookies: {'davista02w', 'frazeme01w', 'wisdoli01w', 'walkeas01w', 'ervinla01w', 'bonnede01w', 'vaughki01w', 'mccouan01w', 'millebr01w', 'blackch01w', 'nanch01w', 'zellosh01w', 'parisco01w', 'montgre01w', 'lehnish01w', 'jekaban01w', 'colemma01w', 'cironkr01w', 'boddiwh01w', 'mccanra01w', 'holliqu01w', 'montaan01w', 'tolivkr01w', 'wirthch01w', 'januabr01w'}\n"
     ]
    }
   ],
   "source": [
    "# List of rookie players for each year in the dataset.\n",
    "\n",
    "rookies_by_year = {}\n",
    "min_year = players_teams['year'].min()\n",
    "max_year = players_teams['year'].max()\n",
    "previous_years_players = set()\n",
    "\n",
    "for year in range(min_year + 1,max_year + 1):\n",
    "    current_years = players_teams[players_teams['year'] == year]\n",
    "    current_years_players = set(current_years['playerID'])\n",
    "\n",
    "    rookies = current_years_players - previous_years_players\n",
    "    rookies_by_year[year] = rookies\n",
    "\n",
    "    previous_years_players.update(current_years_players)\n",
    "\n",
    "for year, rookies in rookies_by_year.items():\n",
    "    print(f\"Year: {year}\")\n",
    "    print(f\"Rookies: {rookies}\")"
   ]
  },
  {
   "cell_type": "code",
   "execution_count": 30,
   "id": "b93ec362",
   "metadata": {},
   "outputs": [
    {
     "name": "stdout",
     "output_type": "stream",
     "text": [
      "Year: 2, Rookie of the Year: griffyo01w, Performance: 726\n",
      "Year: 3, Rookie of the Year: catchta01w, Performance: 754\n",
      "Year: 4, Rookie of the Year: fordch01w, Performance: 506\n",
      "Year: 5, Rookie of the Year: tauradi01w, Performance: 512\n",
      "Year: 6, Rookie of the Year: johnste01w, Performance: 391\n",
      "Year: 7, Rookie of the Year: augusse01w, Performance: 536\n",
      "Year: 8, Rookie of the Year: pricear01w, Performance: 350\n",
      "Year: 9, Rookie of the Year: parkeca01w, Performance: 799\n",
      "Year: 10, Rookie of the Year: bonnede01w, Performance: 424\n",
      "\n",
      "Comparison with Actual Awards Data:\n",
      "Year: 2, Predicted: griffyo01w, Incorrect (Actual: stileja01w), Calculated Performance of Actual Rookie of the Year: 307\n",
      "Year: 3, Predicted: catchta01w, Correct\n",
      "Year: 4, Predicted: fordch01w, Correct\n",
      "Year: 5, Predicted: tauradi01w, Correct\n",
      "Year: 6, Predicted: johnste01w, Correct\n",
      "Year: 7, Predicted: augusse01w, Correct\n",
      "Year: 8, Predicted: pricear01w, Correct\n",
      "Year: 9, Predicted: parkeca01w, Correct\n",
      "Year: 10, Predicted: bonnede01w, Incorrect (Actual: mccouan01w), Calculated Performance of Actual Rookie of the Year: 414\n"
     ]
    }
   ],
   "source": [
    "# Calculate Performance of Rookies in all years\n",
    "# Performance Formula : ((Points + Rebounds + Assists + Steals + Blocks) - ((Field Goals Att. - Field Goals Made) + (Free Throws Att. - Free Throws Made) + Turnovers))\n",
    "\n",
    "rookie_performance = {}\n",
    "\n",
    "for year, rookies in rookies_by_year.items():\n",
    "    current_years_stats = players_teams[players_teams['year'] == year]\n",
    "    for rookie in rookies:\n",
    "        rookie_stats = current_years_stats[current_years_stats['playerID'] == rookie]\n",
    "        if not rookie_stats.empty:\n",
    "            points = rookie_stats['points'].values[0]\n",
    "            rebounds = rookie_stats['rebounds'].values[0]\n",
    "            assists = rookie_stats['assists'].values[0]\n",
    "            steals = rookie_stats['steals'].values[0]\n",
    "            blocks = rookie_stats['blocks'].values[0]\n",
    "            fg_att = rookie_stats['fgAttempted'].values[0]\n",
    "            fg_made = rookie_stats['fgMade'].values[0]\n",
    "            ft_att = rookie_stats['ftAttempted'].values[0]\n",
    "            ft_made = rookie_stats['ftMade'].values[0]\n",
    "            turnovers = rookie_stats['turnovers'].values[0]\n",
    "\n",
    "            performance = (points + rebounds + assists + steals + blocks) - ((fg_att - fg_made) + (ft_att - ft_made) + turnovers)\n",
    "            rookie_performance[(year, rookie)] = performance\n",
    "        else:\n",
    "            rookie_performance[(year, rookie)] = 0\n",
    "\n",
    "# Identify Rookie of the Year for each year\n",
    "rookie_of_the_year = {}\n",
    "\n",
    "for year in range(min_year + 1, max_year + 1):\n",
    "    rookies = rookies_by_year[year]\n",
    "    best_rookie = None\n",
    "    best_performance = float('-inf')\n",
    "    for rookie in rookies:\n",
    "        performance = rookie_performance.get((year, rookie), 0)\n",
    "        if performance > best_performance:\n",
    "            best_performance = performance\n",
    "            best_rookie = rookie\n",
    "    rookie_of_the_year[year] = (best_rookie, best_performance)\n",
    "\n",
    "# Display Rookie of the Year for each year\n",
    "for year, (rookie, performance) in rookie_of_the_year.items():\n",
    "    print(f\"Year: {year}, Rookie of the Year: {rookie}, Performance: {performance}\")\n",
    "\n",
    "# Compare with actual awards data\n",
    "print(\"\\nComparison with Actual Awards Data:\")\n",
    "actual_awards = awards[awards['award'] == 'Rookie of the Year']\n",
    "actual_awards = actual_awards[['year', 'playerID']]\n",
    "actual_awards_dict = dict(zip(actual_awards['year'], actual_awards['playerID']))\n",
    "for year, (predicted_rookie, _) in rookie_of_the_year.items():\n",
    "    actual_rookie = actual_awards_dict.get(year)\n",
    "    if actual_rookie == predicted_rookie:\n",
    "        result = \"Correct\"\n",
    "        print(f\"Year: {year}, Predicted: {predicted_rookie}, {result}\")\n",
    "    else:\n",
    "        result = f\"Incorrect (Actual: {actual_rookie})\"\n",
    "        comparison = f\"Calculated Performance of Actual Rookie of the Year: {rookie_performance[(year, actual_rookie)]}\"\n",
    "        print(f\"Year: {year}, Predicted: {predicted_rookie}, {result}, {comparison}\")\n",
    "\n"
   ]
  }
 ],
 "metadata": {
  "kernelspec": {
   "display_name": "EnvACFinal",
   "language": "python",
   "name": "python3"
  },
  "language_info": {
   "codemirror_mode": {
    "name": "ipython",
    "version": 3
   },
   "file_extension": ".py",
   "mimetype": "text/x-python",
   "name": "python",
   "nbconvert_exporter": "python",
   "pygments_lexer": "ipython3",
   "version": "3.11.13"
  }
 },
 "nbformat": 4,
 "nbformat_minor": 5
}
