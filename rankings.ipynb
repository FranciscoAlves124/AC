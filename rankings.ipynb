{
 "cells": [
  {
   "cell_type": "markdown",
   "id": "b47a10c2",
   "metadata": {},
   "source": [
    "#### Final Season Rankings"
   ]
  },
  {
   "cell_type": "code",
   "execution_count": 3,
   "id": "898ccf20",
   "metadata": {},
   "outputs": [],
   "source": [
    "import pandas as pd\n",
    "import matplotlib as mpl\n",
    "import matplotlib.pyplot as plt\n",
    "import numpy as np\n",
    "from pathlib import Path"
   ]
  },
  {
   "cell_type": "code",
   "execution_count": 4,
   "id": "eb0dee40",
   "metadata": {},
   "outputs": [],
   "source": [
    "awards = pd.read_csv(\"project_data/awards_players.csv\")\n",
    "coaches = pd.read_csv(Path(\"project_data\", \"coaches.csv\"))\n",
    "players_teams = pd.read_csv(Path(\"project_data\", \"players_teams.csv\"))\n",
    "players = pd.read_csv(Path(\"project_data\", \"players.csv\"))\n",
    "series_post = pd.read_csv(Path(\"project_data\", \"series_post.csv\"))\n",
    "teams_post = pd.read_csv(Path(\"project_data\", \"teams_post.csv\"))\n",
    "teams = pd.read_csv(Path(\"project_data\", \"teams.csv\"))"
   ]
  },
  {
   "cell_type": "code",
   "execution_count": 30,
   "id": "5f708d62",
   "metadata": {},
   "outputs": [
    {
     "name": "stdout",
     "output_type": "stream",
     "text": [
      "✅ Game scores calculated and saved to game_scores_1.csv\n",
      "        playerID tmID  year  Game_Score_Total\n",
      "1576  swoopsh01w  HOU     1             550.9\n",
      "572   griffyo01w  SAC     1             515.8\n",
      "1340   reedbr01w  PHO     1             485.4\n",
      "1814  willina01w  UTA     1             449.0\n",
      "1475  smithka01w  MIN     1             427.2\n",
      "903   leslili01w  LAS     1             423.4\n",
      "1546  stinsan01w  CHA     1             406.3\n",
      "1640  thompti01w  HOU     1             403.1 \n",
      "\n",
      "        playerID tmID  year  Game_Score_Per_Game\n",
      "1576  swoopsh01w  HOU     1            17.770968\n",
      "572   griffyo01w  SAC     1            16.118750\n",
      "1814  willina01w  UTA     1            15.482759\n",
      "1340   reedbr01w  PHO     1            15.168750\n",
      "1475  smithka01w  MIN     1            13.350000\n",
      "903   leslili01w  LAS     1            13.231250\n",
      "321   coopecy01w  HOU     1            12.919355\n",
      "1546  stinsan01w  CHA     1            12.696875 \n",
      "\n",
      "        playerID tmID  year  Game_Score_Per_Minute\n",
      "1576  swoopsh01w  HOU     1               0.505413\n",
      "572   griffyo01w  SAC     1               0.502729\n",
      "1340   reedbr01w  PHO     1               0.445321\n",
      "1814  willina01w  UTA     1               0.432146\n",
      "903   leslili01w  LAS     1               0.411868\n",
      "1640  thompti01w  HOU     1               0.370837\n",
      "321   coopecy01w  HOU     1               0.369124\n",
      "1546  stinsan01w  CHA     1               0.361799 \n",
      "\n"
     ]
    }
   ],
   "source": [
    "\n",
    "# Choose the year to analyze\n",
    "year_to_analyze = 1 # change this as needed\n",
    "\n",
    "# Filter for that year\n",
    "df_year = players_teams[players_teams[\"year\"] == year_to_analyze].copy()\n",
    "df_year = df_year[(df_year[\"GP\"] >= 10) & (df_year[\"minutes\"] >= 100)]\n",
    "\n",
    "# Apply Game Score formula\n",
    "df_year[\"Game_Score_Total\"] = (\n",
    "    df_year[\"points\"]\n",
    "    + 0.4 * df_year[\"fgMade\"]\n",
    "    - 0.7 * df_year[\"fgAttempted\"]\n",
    "    - 0.4 * (df_year[\"ftAttempted\"] - df_year[\"ftMade\"])  # missed free throws\n",
    "    + 0.7 * df_year[\"oRebounds\"]\n",
    "    + 0.3 * df_year[\"dRebounds\"]\n",
    "    + df_year[\"steals\"]\n",
    "    + 0.7 * df_year[\"assists\"]\n",
    "    + 0.7 * df_year[\"blocks\"]\n",
    "    - 0.4 * df_year[\"PF\"]\n",
    "    - df_year[\"turnovers\"]\n",
    ") \n",
    "\n",
    "# Apply Game Score formula per Game\n",
    "df_year[\"Game_Score_Per_Game\"] = (\n",
    "    df_year[\"points\"]\n",
    "    + 0.4 * df_year[\"fgMade\"]\n",
    "    - 0.7 * df_year[\"fgAttempted\"]\n",
    "    - 0.4 * (df_year[\"ftAttempted\"] - df_year[\"ftMade\"])  # missed free throws\n",
    "    + 0.7 * df_year[\"oRebounds\"]\n",
    "    + 0.3 * df_year[\"dRebounds\"]\n",
    "    + df_year[\"steals\"]\n",
    "    + 0.7 * df_year[\"assists\"]\n",
    "    + 0.7 * df_year[\"blocks\"]\n",
    "    - 0.4 * df_year[\"PF\"]\n",
    "    - df_year[\"turnovers\"]\n",
    ") / df_year[\"GP\"]\n",
    "\n",
    "# Apply Game Score formula per Minute\n",
    "df_year[\"Game_Score_Per_Minute\"] = (\n",
    "    df_year[\"points\"]\n",
    "    + 0.4 * df_year[\"fgMade\"]\n",
    "    - 0.7 * df_year[\"fgAttempted\"]\n",
    "    - 0.4 * (df_year[\"ftAttempted\"] - df_year[\"ftMade\"])  # missed free throws\n",
    "    + 0.7 * df_year[\"oRebounds\"]\n",
    "    + 0.3 * df_year[\"dRebounds\"]\n",
    "    + df_year[\"steals\"]\n",
    "    + 0.7 * df_year[\"assists\"]\n",
    "    + 0.7 * df_year[\"blocks\"]\n",
    "    - 0.4 * df_year[\"PF\"]\n",
    "    - df_year[\"turnovers\"]\n",
    ") / df_year[\"minutes\"]\n",
    "\n",
    "# Sort by Game Score (descending)\n",
    "df_sorted_total = df_year.sort_values(\"Game_Score_Total\", ascending=False)\n",
    "df_sorted_game = df_year.sort_values(\"Game_Score_Per_Game\", ascending=False)\n",
    "df_sorted_minute = df_year.sort_values(\"Game_Score_Per_Minute\", ascending=False)\n",
    "\n",
    "# Save to CSV\n",
    "output_file = f\"game_scores_{year_to_analyze}.csv\"\n",
    "# df_sorted.to_csv(output_file, index=False)\n",
    "\n",
    "print(f\"✅ Game scores calculated and saved to {output_file}\")\n",
    "print(df_sorted_total[[\"playerID\", \"tmID\", \"year\", \"Game_Score_Total\"]].head(8), \"\\n\")\n",
    "\n",
    "print(df_sorted_game[[\"playerID\", \"tmID\", \"year\", \"Game_Score_Per_Game\"]].head(8),\"\\n\")\n",
    "\n",
    "print(df_sorted_minute[[\"playerID\", \"tmID\", \"year\", \"Game_Score_Per_Minute\"]].head(8), \"\\n\")\n",
    "\n"
   ]
  }
 ],
 "metadata": {
  "kernelspec": {
   "display_name": "myenv",
   "language": "python",
   "name": "python3"
  },
  "language_info": {
   "codemirror_mode": {
    "name": "ipython",
    "version": 3
   },
   "file_extension": ".py",
   "mimetype": "text/x-python",
   "name": "python",
   "nbconvert_exporter": "python",
   "pygments_lexer": "ipython3",
   "version": "3.13.5"
  }
 },
 "nbformat": 4,
 "nbformat_minor": 5
}
